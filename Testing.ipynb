{
 "cells": [
  {
   "cell_type": "code",
   "execution_count": null,
   "id": "b2527dc6",
   "metadata": {},
   "outputs": [],
   "source": [
    "import pandas as pd\n",
    "import os\n",
    "import flask"
   ]
  },
  {
   "cell_type": "code",
   "execution_count": 5,
   "id": "88ada3b0",
   "metadata": {},
   "outputs": [
    {
     "name": "stdout",
     "output_type": "stream",
     "text": [
      "         Date           Description  Amount      Type        Category\n",
      "0    4/9/2025                 JACKS   29.00  Purchase  Food/Groceries\n",
      "1    4/8/2025  WAL-MART SUPERCENTER    8.78  Purchase   Miscellaneous\n",
      "2    4/5/2025          AMC THEATERS   35.78  Purchase   Entertainment\n",
      "3    4/3/2025     PAYPAL *CHEWY INC   77.92  Purchase   Miscellaneous\n",
      "4    4/1/2025             BRAVO #16   25.17  Purchase  Transportation\n",
      "5    4/1/2025  WAL-MART SUPERCENTER   10.75  Purchase   Miscellaneous\n",
      "6   3/28/2025  WAL-MART SUPERCENTER   27.07  Purchase   Miscellaneous\n",
      "7   3/22/2025                SUNOCO   25.98  Purchase  Transportation\n",
      "8   3/12/2025               TJ MAXX   61.76  Purchase   Miscellaneous\n",
      "9   3/12/2025             PAPAJOHNS   16.49  Purchase  Food/Groceries\n",
      "10  3/12/2025     PAYPAL *FOREVER21   73.22  Purchase   Miscellaneous\n",
      "11  3/12/2025               SEPHORA   88.41  Purchase   Miscellaneous\n",
      "12  3/12/2025                  ALDI  101.76  Purchase  Food/Groceries\n",
      "13   3/9/2025               GRUBHUB   23.24  Purchase  Food/Groceries\n",
      "14   3/8/2025              MARATHON   12.93  Purchase  Transportation\n",
      "15   3/8/2025           PAYPAL*EBAY   63.86  Purchase   Miscellaneous\n"
     ]
    }
   ],
   "source": [
    "#I got this from google, but just ensuring the file is not corrupted and will open\n",
    "\n",
    "df = pd.read_csv('Transactions.csv')\n",
    "\n",
    "print(df.to_string())"
   ]
  },
  {
   "cell_type": "code",
   "execution_count": 8,
   "id": "bc2bddb3",
   "metadata": {},
   "outputs": [
    {
     "data": {
      "text/plain": [
       "<__main__.AccountManager at 0x23527f43e00>"
      ]
     },
     "execution_count": 8,
     "metadata": {},
     "output_type": "execute_result"
    }
   ],
   "source": [
    "CSV_FILE = 'Transactions.csv'\n",
    "INITIAL_BALANCE = 100.0\n",
    "\n",
    "class AccountManager:\n",
    "    def __init__(self,initial_balance = INITIAL_BALANCE,csv_file = CSV_FILE):\n",
    "            self.csv_file = csv_file\n",
    "            self.initial_balance = initial_balance\n",
    "\n",
    "\n",
    "    def load_file(self):\n",
    "            \"\"\"Loads data from the CSV file\"\"\"\n",
    "            if os.path.exists(self.csv_file):\n",
    "                try:\n",
    "                    df = pd.read(self.csv_file)\n",
    "                    print(f\"File exists as {self.csv_file}\")\n",
    "                    return df\n",
    "                except pd.errors.EmptyDataError:        #I did look this except up on google but it seems to do what I'm wanting\n",
    "                    print(\"Error: The file is empty.\")\n",
    "            else:\n",
    "                print(f\"{self.csv_file} File not found\")\n",
    "\n",
    "\n",
    "\n",
    "AccountManager('Transactions.csv')"
   ]
  },
  {
   "cell_type": "code",
   "execution_count": null,
   "id": "e7c9c89c",
   "metadata": {},
   "outputs": [],
   "source": []
  }
 ],
 "metadata": {
  "kernelspec": {
   "display_name": "Python 3",
   "language": "python",
   "name": "python3"
  },
  "language_info": {
   "codemirror_mode": {
    "name": "ipython",
    "version": 3
   },
   "file_extension": ".py",
   "mimetype": "text/x-python",
   "name": "python",
   "nbconvert_exporter": "python",
   "pygments_lexer": "ipython3",
   "version": "3.13.1"
  }
 },
 "nbformat": 4,
 "nbformat_minor": 5
}
