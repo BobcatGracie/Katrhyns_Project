{
 "cells": [
  {
   "cell_type": "code",
   "execution_count": null,
   "id": "b2527dc6",
   "metadata": {},
   "outputs": [],
   "source": [
    "import pandas as pd\n",
    "import os\n",
    "import flask"
   ]
  },
  {
   "cell_type": "code",
   "execution_count": 8,
   "id": "88ada3b0",
   "metadata": {},
   "outputs": [
    {
     "name": "stdout",
     "output_type": "stream",
     "text": [
      "         Date           Description  Amount      Type        Category\n",
      "0    4/9/2025                 JACKS   29.00  Purchase  Food/Groceries\n",
      "1    4/8/2025  WAL-MART SUPERCENTER    8.78  Purchase   Miscellaneous\n",
      "2    4/5/2025          AMC THEATERS   35.78  Purchase   Entertainment\n",
      "3    4/3/2025     PAYPAL *CHEWY INC   77.92  Purchase   Miscellaneous\n",
      "4    4/1/2025             BRAVO #16   25.17  Purchase  Transportation\n",
      "5    4/1/2025  WAL-MART SUPERCENTER   10.75  Purchase   Miscellaneous\n",
      "6   3/28/2025  WAL-MART SUPERCENTER   27.07  Purchase   Miscellaneous\n",
      "7   3/22/2025                SUNOCO   25.98  Purchase  Transportation\n",
      "8   3/12/2025               TJ MAXX   61.76  Purchase   Miscellaneous\n",
      "9   3/12/2025             PAPAJOHNS   16.49  Purchase  Food/Groceries\n",
      "10  3/12/2025     PAYPAL *FOREVER21   73.22  Purchase   Miscellaneous\n",
      "11  3/12/2025               SEPHORA   88.41  Purchase   Miscellaneous\n",
      "12  3/12/2025                  ALDI  101.76  Purchase  Food/Groceries\n",
      "13   3/9/2025               GRUBHUB   23.24  Purchase  Food/Groceries\n",
      "14   3/8/2025              MARATHON   12.93  Purchase  Transportation\n",
      "15   3/8/2025           PAYPAL*EBAY   63.86  Purchase   Miscellaneous\n"
     ]
    }
   ],
   "source": [
    "#I got this from google, but just ensuring the file is not corrupted and will open\n",
    "\n",
    "df = pd.read_csv('Transactions.csv')\n",
    "\n",
    "print(df.to_string())"
   ]
  },
  {
   "cell_type": "code",
   "execution_count": 10,
   "id": "bc2bddb3",
   "metadata": {},
   "outputs": [
    {
     "name": "stdout",
     "output_type": "stream",
     "text": [
      "File exists as Transactions.csv\n"
     ]
    }
   ],
   "source": [
    "CSV_FILE = 'Transactions.csv'\n",
    "INITIAL_BALANCE = 100.0\n",
    "\n",
    "class AccountManager:\n",
    "    def __init__(self,initial_balance = INITIAL_BALANCE,csv_file = CSV_FILE):\n",
    "            self.csv_file = csv_file\n",
    "            self.initial_balance = initial_balance\n",
    "            self.df = self.load_file()\n",
    "\n",
    "\n",
    "    def load_file(self):\n",
    "            \"\"\"Loads data from the CSV file\"\"\"\n",
    "            if os.path.exists(self.csv_file):\n",
    "                try:\n",
    "                    df = pd.read_csv(self.csv_file)\n",
    "                    print(f\"File exists as {self.csv_file}\")\n",
    "                    return df\n",
    "                except pd.errors.EmptyDataError:        #I did look this except up on google but it seems to do what I'm wanting\n",
    "                    print(\"Error: The file is empty.\")\n",
    "                    return None\n",
    "            else:\n",
    "                print(f\"{self.csv_file} File not found\")\n",
    "                return None\n",
    "            \n",
    "    def __str__(self):\n",
    "         s = (f\"Database: {self.csv_file}, Initial Balance: {self.initial_balance}\\n\")\n",
    "         if self.df is not None:\n",
    "              s += (\"DataFrame contents:\\n\")\n",
    "              s += self.df.to_string()\n",
    "              return s\n",
    "\n",
    "am = AccountManager('Transactions.csv')"
   ]
  },
  {
   "cell_type": "code",
   "execution_count": 11,
   "id": "e7c9c89c",
   "metadata": {},
   "outputs": [
    {
     "name": "stdout",
     "output_type": "stream",
     "text": [
      "Database: Transactions.csv, Initial Balance: Transactions.csv\n",
      "DataFrame contents:\n",
      "         Date           Description  Amount      Type        Category\n",
      "0    4/9/2025                 JACKS   29.00  Purchase  Food/Groceries\n",
      "1    4/8/2025  WAL-MART SUPERCENTER    8.78  Purchase   Miscellaneous\n",
      "2    4/5/2025          AMC THEATERS   35.78  Purchase   Entertainment\n",
      "3    4/3/2025     PAYPAL *CHEWY INC   77.92  Purchase   Miscellaneous\n",
      "4    4/1/2025             BRAVO #16   25.17  Purchase  Transportation\n",
      "5    4/1/2025  WAL-MART SUPERCENTER   10.75  Purchase   Miscellaneous\n",
      "6   3/28/2025  WAL-MART SUPERCENTER   27.07  Purchase   Miscellaneous\n",
      "7   3/22/2025                SUNOCO   25.98  Purchase  Transportation\n",
      "8   3/12/2025               TJ MAXX   61.76  Purchase   Miscellaneous\n",
      "9   3/12/2025             PAPAJOHNS   16.49  Purchase  Food/Groceries\n",
      "10  3/12/2025     PAYPAL *FOREVER21   73.22  Purchase   Miscellaneous\n",
      "11  3/12/2025               SEPHORA   88.41  Purchase   Miscellaneous\n",
      "12  3/12/2025                  ALDI  101.76  Purchase  Food/Groceries\n",
      "13   3/9/2025               GRUBHUB   23.24  Purchase  Food/Groceries\n",
      "14   3/8/2025              MARATHON   12.93  Purchase  Transportation\n",
      "15   3/8/2025           PAYPAL*EBAY   63.86  Purchase   Miscellaneous\n"
     ]
    }
   ],
   "source": [
    "print(am)"
   ]
  },
  {
   "cell_type": "code",
   "execution_count": 12,
   "id": "2b8619ec",
   "metadata": {},
   "outputs": [],
   "source": [
    "import csv\n",
    "import os\n",
    "import pandas as pd\n",
    "\n",
    "#Copied and edited from HCI 574 lecture 36\n",
    "from flask import Flask, render_template, request, redirect, url_for"
   ]
  },
  {
   "cell_type": "code",
   "execution_count": 14,
   "id": "d57e9d7f",
   "metadata": {},
   "outputs": [
    {
     "name": "stdout",
     "output_type": "stream",
     "text": [
      " * Serving Flask app '__main__'\n",
      " * Debug mode: off\n"
     ]
    },
    {
     "name": "stderr",
     "output_type": "stream",
     "text": [
      "WARNING: This is a development server. Do not use it in a production deployment. Use a production WSGI server instead.\n",
      " * Running on http://127.0.0.1:8080\n",
      "Press CTRL+C to quit\n"
     ]
    },
    {
     "name": "stderr",
     "output_type": "stream",
     "text": [
      "127.0.0.1 - - [07/Jul/2025 14:24:05] \"GET / HTTP/1.1\" 200 -\n"
     ]
    },
    {
     "name": "stdout",
     "output_type": "stream",
     "text": [
      "<!DOCTYPE html>\n",
      "<html lang=\"en\">\n",
      "<head>\n",
      "    <meta charset=\"UTF-8\">\n",
      "    <meta name=\"viewport\" content=\"width=device-width, initial-scale=1.0\">\n",
      "    <title>Landing Page</title>\n",
      "</head>\n",
      "<body>\n",
      "    <div>\n",
      "        <h1>Welcome!</h1>\n",
      "         <p>This is a simple Flask application test.</p>\n",
      "    </div>\n",
      "    <div>\n",
      "        <h2>Add a New Transaction</h2>\n",
      "        <form action=\"/add_transaction\" method=\"post\">\n",
      "            <label for=\"transaction_id\">Transaction ID:</label>\n",
      "            <input type=\"text\" id=\"transaction_id\" name=\"transaction_id\" required>\n",
      "\n",
      "            <label for=\"item\">Item Purchased:</label>\n",
      "            <input type=\"text\" id=\"item\" name=\"item\" required>\n",
      "\n",
      "            <label for=\"amount\">Amount:</label>\n",
      "            <input type=\"number\" id=\"amount\" name=\"amount\" step=\"0.01\" required>\n",
      "\n",
      "            <label for=\"date\">Date (MM-DD):</label>\n",
      "            <input type=\"date\" id=\"date\" name=\"date\" required>\n",
      "\n",
      "            <input type=\"submit\" value=\"Add Transaction\">\n",
      "        </form>\n",
      "    </div>\n",
      "\n",
      "</body>\n",
      "</html>\n",
      "\n"
     ]
    }
   ],
   "source": [
    "app = Flask(__name__)\n",
    "\n",
    "@app.route(\"/\")  \n",
    "def index():\n",
    "    html_str = render_template('index.html', title=\"Landing Page\") # title will be inlined in {{ title }}\n",
    "    print(html_str) # DEBUG\n",
    "    return html_str  # give it to the browser to display the inline page\n",
    "\n",
    "app.run(debug=False, port=8080) \n",
    "\n",
    "\n",
    "\n",
    "CSV_FILE = 'Transactions.csv'\n",
    "INITIAL_BALANCE = 100.0\n",
    "\n",
    "\n",
    "class AccountManager:\n",
    "    def __init__(self,initial_balance = INITIAL_BALANCE,csv_file = CSV_FILE):\n",
    "            self.csv_file = csv_file\n",
    "            self.initial_balance = initial_balance\n",
    "            self.activities = self._load_activities()\n",
    "            self.df = self.load_file()\n",
    "\n",
    "\n",
    "    def load_file(self):\n",
    "            \"\"\"Loads data from the CSV file\"\"\"\n",
    "            if os.path.exists(self.csv_file):\n",
    "                try:\n",
    "                    df = pd.read_csv(self.csv_file)\n",
    "                    print(f\"File exists as {self.csv_file}\")\n",
    "                    return df\n",
    "                except pd.errors.EmptyDataError:        #I did look this except up on google but it seems to do what I'm wanting\n",
    "                    print(\"Error: The file is empty.\")\n",
    "                    return None\n",
    "            else:\n",
    "                print(f\"{self.csv_file} File not found\")\n",
    "                return None\n",
    "            \n",
    "    def __str__(self):\n",
    "         s = (f\"Database: {self.csv_file}, Initial Balance: {self.initial_balance}\\n\")\n",
    "         if self.df is not None:\n",
    "              s += (\"DataFrame contents:\\n\")\n",
    "              s += self.df.to_string()\n",
    "              return s\n",
    "\n",
    "\n",
    "    def save(self):\n",
    "        \"\"\"Saves the current data and activity\"\"\"\n",
    "        #Not sure if this is right???\n",
    "        self.activities.to_csv(self.csv_file, index=False)\n",
    "\n",
    "    def update_balance(self):\n",
    "        \"\"\"Updates the current balance based on user activity, \n",
    "        after initial balance. Should update after loading\"\"\"\n",
    "        current_balance = self.initial_balance\n",
    "        #figure out how add the purhcase amount rows from CSV file\n",
    "        \n",
    "    @app.route('/add_transaction', methods=['POST'])\n",
    "    def add_activity(self, type, catagory, amount):\n",
    "        \"\"\"Adds new activity and will sort what type of activity it is(refund or charge),\n",
    "        catagory(grocery/transportation), and the amount.\"\"\"\n",
    "        if request.method =='POST':\n",
    "            transaction_id = request.form['transaction_id']\n",
    "            item = request.form['item']\n",
    "            amount = request.form['amount']\n",
    "            date = request.form['date']\n",
    "\n",
    "            #Append data to CSV file\n",
    "            #I got this from the internet\n",
    "            try:\n",
    "                with open(CSV_FILE, 'a', newline='') as file:\n",
    "                    writer = csv.writer(file)\n",
    "                    writer.writerow([transaction_id, item, amount, date])\n",
    "\n",
    "                return render_template('index.html', message=\"Transaction added successfully!\", message_type=\"success\")\n",
    "            except Exception as e:\n",
    "                return render_template('index.html', message=f\"Error adding transaction: {e}\", message_type=\"error\")\n",
    "\n",
    "    def purchase(self, amount, catagory):\n",
    "        \"\"\"Adds purchase activity ans subtracts from the balance. Hopefully warns & \n",
    "        denies the purchase if the user doesn't have the balance to cover it,\"\"\"\n",
    "\n",
    "\n",
    "    def get_balance(self):\n",
    "        \"\"\"Gives user their current balance.\"\"\"\n",
    "\n",
    "    def get_activity(self):\n",
    "        \"\"\"Gives user their activity.\"\"\"\n",
    "\n",
    "    def plot(self):\n",
    "        \"\"\"Plots the balance over time.\"\"\"\n",
    "        #Bar chart or graph.....lookup what is most popular\n",
    "\n",
    "#need a def for handling str + floats for consistency\n",
    "#maybe defs for UI(menu, tables, charts, viewing activity)\n",
    "def main():\n",
    "    \"\"\"Runs the Account Manager for users to input data.\"\"\""
   ]
  },
  {
   "cell_type": "code",
   "execution_count": null,
   "id": "b5811eae",
   "metadata": {},
   "outputs": [],
   "source": []
  }
 ],
 "metadata": {
  "kernelspec": {
   "display_name": "Python 3",
   "language": "python",
   "name": "python3"
  },
  "language_info": {
   "codemirror_mode": {
    "name": "ipython",
    "version": 3
   },
   "file_extension": ".py",
   "mimetype": "text/x-python",
   "name": "python",
   "nbconvert_exporter": "python",
   "pygments_lexer": "ipython3",
   "version": "3.13.1"
  }
 },
 "nbformat": 4,
 "nbformat_minor": 5
}
